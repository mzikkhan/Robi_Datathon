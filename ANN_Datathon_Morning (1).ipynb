{
  "nbformat": 4,
  "nbformat_minor": 0,
  "metadata": {
    "colab": {
      "name": "ANN-Datathon-Morning.ipynb",
      "provenance": []
    },
    "kernelspec": {
      "name": "python3",
      "display_name": "Python 3"
    },
    "language_info": {
      "name": "python"
    }
  },
  "cells": [
    {
      "cell_type": "code",
      "execution_count": 17,
      "metadata": {
        "id": "AaEA-s_Cv7lj"
      },
      "outputs": [],
      "source": [
        "import numpy as np\n",
        "import pandas as pd\n",
        "import matplotlib.pyplot as plt\n",
        "import tensorflow as tf"
      ]
    },
    {
      "cell_type": "markdown",
      "source": [
        "#Importing the dataset and selecting the columns"
      ],
      "metadata": {
        "id": "ge6YFFQa5FG7"
      }
    },
    {
      "cell_type": "code",
      "source": [
        "dataset = pd.read_csv('datathon_train.csv')\n",
        "dataset.drop(dataset.columns[[0,5,6,7,9,10,11,12,13,14,16,17,18,19]], axis = 1, inplace = True)\n",
        "X = dataset.iloc[:, :-1].values\n",
        "y = dataset.iloc[:, -1].values"
      ],
      "metadata": {
        "id": "JlITAkYqwmqH"
      },
      "execution_count": 18,
      "outputs": []
    },
    {
      "cell_type": "code",
      "source": [
        "X"
      ],
      "metadata": {
        "colab": {
          "base_uri": "https://localhost:8080/"
        },
        "id": "FPR-82-sH-E9",
        "outputId": "e2dc9b60-eee5-4cb2-a4bd-77fb899a06da"
      },
      "execution_count": 19,
      "outputs": [
        {
          "output_type": "execute_result",
          "data": {
            "text/plain": [
              "array([['M', 'Y', 'N', ..., 0, 0.631220343, 5],\n",
              "       ['M', 'Y', 'Y', ..., 0, 0.392746019, 3],\n",
              "       ['M', 'Y', 'Y', ..., 0, 0.222536676, 2],\n",
              "       ...,\n",
              "       ['F', 'Y', 'Y', ..., 1, 0.826586671, 1],\n",
              "       ['M', 'Y', 'Y', ..., 0, 0.103523331, 5],\n",
              "       ['M', 'Y', 'Y', ..., 1, 0.435078756, 5]], dtype=object)"
            ]
          },
          "metadata": {},
          "execution_count": 19
        }
      ]
    },
    {
      "cell_type": "markdown",
      "source": [
        "#Encoding the categorical variables"
      ],
      "metadata": {
        "id": "rdfRVOIJ5PFb"
      }
    },
    {
      "cell_type": "code",
      "source": [
        "from sklearn.preprocessing import LabelEncoder\n",
        "from sklearn.compose import ColumnTransformer\n",
        "from sklearn.preprocessing import OneHotEncoder\n",
        "le = LabelEncoder()\n",
        "#gender\n",
        "X[:, 0] = le.fit_transform(X[:, 2])\n",
        "#s11\n",
        "X[:, 1] = le.fit_transform(X[:, 2])\n",
        "#s12\n",
        "X[:, 2] = le.fit_transform(X[:, 2])\n",
        "#s58\n",
        "X[:, 5] = le.fit_transform(X[:, 2])"
      ],
      "metadata": {
        "id": "dKtfEqzmw-DO"
      },
      "execution_count": 20,
      "outputs": []
    },
    {
      "cell_type": "code",
      "source": [
        "X"
      ],
      "metadata": {
        "colab": {
          "base_uri": "https://localhost:8080/"
        },
        "id": "5uVIggHWIDDl",
        "outputId": "c7705a30-c80d-4b0d-abc0-5cf6900e9f5e"
      },
      "execution_count": 21,
      "outputs": [
        {
          "output_type": "execute_result",
          "data": {
            "text/plain": [
              "array([[0, 0, 0, ..., 0, 0.631220343, 5],\n",
              "       [1, 1, 1, ..., 0, 0.392746019, 3],\n",
              "       [1, 1, 1, ..., 0, 0.222536676, 2],\n",
              "       ...,\n",
              "       [1, 1, 1, ..., 1, 0.826586671, 1],\n",
              "       [1, 1, 1, ..., 0, 0.103523331, 5],\n",
              "       [1, 1, 1, ..., 1, 0.435078756, 5]], dtype=object)"
            ]
          },
          "metadata": {},
          "execution_count": 21
        }
      ]
    },
    {
      "cell_type": "code",
      "source": [
        "'''from sklearn.impute import SimpleImputer \n",
        "imputer=SimpleImputer(missing_values=np.NAN,strategy='mean',fill_value=None,verbose=0,copy=True)\n",
        "imputer=imputer.fit(X[:,:]) \n",
        "X[:,:]=imputer.transform(X[:,:])'''"
      ],
      "metadata": {
        "colab": {
          "base_uri": "https://localhost:8080/",
          "height": 53
        },
        "id": "ADL-AbFW2l0T",
        "outputId": "80321b17-3cd4-45c7-96e6-76545413f1d7"
      },
      "execution_count": 22,
      "outputs": [
        {
          "output_type": "execute_result",
          "data": {
            "text/plain": [
              "\"from sklearn.impute import SimpleImputer \\nimputer=SimpleImputer(missing_values=np.NAN,strategy='mean',fill_value=None,verbose=0,copy=True)\\nimputer=imputer.fit(X[:,:]) \\nX[:,:]=imputer.transform(X[:,:])\""
            ],
            "application/vnd.google.colaboratory.intrinsic+json": {
              "type": "string"
            }
          },
          "metadata": {},
          "execution_count": 22
        }
      ]
    },
    {
      "cell_type": "markdown",
      "source": [
        "#Training the dataset"
      ],
      "metadata": {
        "id": "PA9IDe8-5lCT"
      }
    },
    {
      "cell_type": "code",
      "source": [
        "from sklearn.model_selection import train_test_split\n",
        "X_train, X_test, y_train, y_test = train_test_split(X, y, test_size = 0.3, random_state = 0)"
      ],
      "metadata": {
        "id": "Mj1SsOpd02FG"
      },
      "execution_count": 23,
      "outputs": []
    },
    {
      "cell_type": "markdown",
      "source": [
        "#Feature Scaling"
      ],
      "metadata": {
        "id": "JA1NcQi05nmT"
      }
    },
    {
      "cell_type": "code",
      "source": [
        "from sklearn.preprocessing import StandardScaler\n",
        "sc = StandardScaler()\n",
        "X_train = sc.fit_transform(X_train)\n",
        "X_test = sc.transform(X_test)"
      ],
      "metadata": {
        "id": "pcOD0TOs1Mn4"
      },
      "execution_count": 24,
      "outputs": []
    },
    {
      "cell_type": "markdown",
      "source": [
        "#Building the ann"
      ],
      "metadata": {
        "id": "rayO8bTI5qNk"
      }
    },
    {
      "cell_type": "code",
      "source": [
        "ann = tf.keras.models.Sequential()\n",
        "ann.add(tf.keras.layers.Dense(units=6, activation='relu'))\n",
        "ann.add(tf.keras.layers.Dense(units=6, activation='relu'))\n",
        "ann.add(tf.keras.layers.Dense(units=1, activation='sigmoid'))\n",
        "ann.compile(optimizer='adam' , loss='binary_crossentropy' , metrics=['accuracy'] )"
      ],
      "metadata": {
        "id": "o_aIDWVA1RLC"
      },
      "execution_count": 25,
      "outputs": []
    },
    {
      "cell_type": "markdown",
      "source": [
        "#TRaining the ann"
      ],
      "metadata": {
        "id": "0bdkEn9-5sgj"
      }
    },
    {
      "cell_type": "code",
      "source": [
        "ann.fit(X_train, y_train, batch_size=32, epochs=100)"
      ],
      "metadata": {
        "colab": {
          "base_uri": "https://localhost:8080/"
        },
        "id": "YQObonBN1w5S",
        "outputId": "2efa82dd-75ed-4999-e445-620b6ca93d48"
      },
      "execution_count": 26,
      "outputs": [
        {
          "output_type": "stream",
          "name": "stdout",
          "text": [
            "Epoch 1/100\n",
            "620/620 [==============================] - 2s 2ms/step - loss: 0.4484 - accuracy: 0.8330\n",
            "Epoch 2/100\n",
            "620/620 [==============================] - 1s 2ms/step - loss: 0.3848 - accuracy: 0.8440\n",
            "Epoch 3/100\n",
            "620/620 [==============================] - 1s 2ms/step - loss: 0.3726 - accuracy: 0.8545\n",
            "Epoch 4/100\n",
            "620/620 [==============================] - 1s 2ms/step - loss: 0.3684 - accuracy: 0.8549\n",
            "Epoch 5/100\n",
            "620/620 [==============================] - 1s 2ms/step - loss: 0.3661 - accuracy: 0.8556\n",
            "Epoch 6/100\n",
            "620/620 [==============================] - 1s 2ms/step - loss: 0.3642 - accuracy: 0.8561\n",
            "Epoch 7/100\n",
            "620/620 [==============================] - 1s 2ms/step - loss: 0.3630 - accuracy: 0.8564\n",
            "Epoch 8/100\n",
            "620/620 [==============================] - 1s 2ms/step - loss: 0.3621 - accuracy: 0.8575\n",
            "Epoch 9/100\n",
            "620/620 [==============================] - 1s 2ms/step - loss: 0.3615 - accuracy: 0.8572\n",
            "Epoch 10/100\n",
            "620/620 [==============================] - 1s 2ms/step - loss: 0.3609 - accuracy: 0.8563\n",
            "Epoch 11/100\n",
            "620/620 [==============================] - 1s 2ms/step - loss: 0.3603 - accuracy: 0.8572\n",
            "Epoch 12/100\n",
            "620/620 [==============================] - 1s 2ms/step - loss: 0.3599 - accuracy: 0.8575\n",
            "Epoch 13/100\n",
            "620/620 [==============================] - 1s 2ms/step - loss: 0.3594 - accuracy: 0.8567\n",
            "Epoch 14/100\n",
            "620/620 [==============================] - 1s 2ms/step - loss: 0.3596 - accuracy: 0.8567\n",
            "Epoch 15/100\n",
            "620/620 [==============================] - 1s 2ms/step - loss: 0.3590 - accuracy: 0.8573\n",
            "Epoch 16/100\n",
            "620/620 [==============================] - 1s 2ms/step - loss: 0.3589 - accuracy: 0.8569\n",
            "Epoch 17/100\n",
            "620/620 [==============================] - 1s 2ms/step - loss: 0.3587 - accuracy: 0.8570\n",
            "Epoch 18/100\n",
            "620/620 [==============================] - 1s 2ms/step - loss: 0.3582 - accuracy: 0.8583\n",
            "Epoch 19/100\n",
            "620/620 [==============================] - 1s 2ms/step - loss: 0.3579 - accuracy: 0.8576\n",
            "Epoch 20/100\n",
            "620/620 [==============================] - 1s 2ms/step - loss: 0.3582 - accuracy: 0.8578\n",
            "Epoch 21/100\n",
            "620/620 [==============================] - 1s 2ms/step - loss: 0.3576 - accuracy: 0.8572\n",
            "Epoch 22/100\n",
            "620/620 [==============================] - 1s 2ms/step - loss: 0.3576 - accuracy: 0.8570\n",
            "Epoch 23/100\n",
            "620/620 [==============================] - 1s 2ms/step - loss: 0.3572 - accuracy: 0.8582\n",
            "Epoch 24/100\n",
            "620/620 [==============================] - 1s 2ms/step - loss: 0.3573 - accuracy: 0.8565\n",
            "Epoch 25/100\n",
            "620/620 [==============================] - 1s 2ms/step - loss: 0.3571 - accuracy: 0.8581\n",
            "Epoch 26/100\n",
            "620/620 [==============================] - 1s 2ms/step - loss: 0.3570 - accuracy: 0.8573\n",
            "Epoch 27/100\n",
            "620/620 [==============================] - 1s 2ms/step - loss: 0.3566 - accuracy: 0.8577\n",
            "Epoch 28/100\n",
            "620/620 [==============================] - 1s 2ms/step - loss: 0.3564 - accuracy: 0.8582\n",
            "Epoch 29/100\n",
            "620/620 [==============================] - 1s 2ms/step - loss: 0.3566 - accuracy: 0.8577\n",
            "Epoch 30/100\n",
            "620/620 [==============================] - 1s 2ms/step - loss: 0.3564 - accuracy: 0.8571\n",
            "Epoch 31/100\n",
            "620/620 [==============================] - 1s 2ms/step - loss: 0.3562 - accuracy: 0.8574\n",
            "Epoch 32/100\n",
            "620/620 [==============================] - 1s 2ms/step - loss: 0.3563 - accuracy: 0.8570\n",
            "Epoch 33/100\n",
            "620/620 [==============================] - 1s 2ms/step - loss: 0.3560 - accuracy: 0.8576\n",
            "Epoch 34/100\n",
            "620/620 [==============================] - 1s 2ms/step - loss: 0.3559 - accuracy: 0.8570\n",
            "Epoch 35/100\n",
            "620/620 [==============================] - 1s 2ms/step - loss: 0.3558 - accuracy: 0.8578\n",
            "Epoch 36/100\n",
            "620/620 [==============================] - 1s 2ms/step - loss: 0.3557 - accuracy: 0.8578\n",
            "Epoch 37/100\n",
            "620/620 [==============================] - 1s 2ms/step - loss: 0.3557 - accuracy: 0.8577\n",
            "Epoch 38/100\n",
            "620/620 [==============================] - 1s 2ms/step - loss: 0.3555 - accuracy: 0.8575\n",
            "Epoch 39/100\n",
            "620/620 [==============================] - 1s 2ms/step - loss: 0.3555 - accuracy: 0.8577\n",
            "Epoch 40/100\n",
            "620/620 [==============================] - 1s 2ms/step - loss: 0.3555 - accuracy: 0.8574\n",
            "Epoch 41/100\n",
            "620/620 [==============================] - 1s 2ms/step - loss: 0.3555 - accuracy: 0.8578\n",
            "Epoch 42/100\n",
            "620/620 [==============================] - 1s 2ms/step - loss: 0.3552 - accuracy: 0.8577\n",
            "Epoch 43/100\n",
            "620/620 [==============================] - 1s 2ms/step - loss: 0.3549 - accuracy: 0.8572\n",
            "Epoch 44/100\n",
            "620/620 [==============================] - 1s 2ms/step - loss: 0.3550 - accuracy: 0.8581\n",
            "Epoch 45/100\n",
            "620/620 [==============================] - 1s 2ms/step - loss: 0.3552 - accuracy: 0.8579\n",
            "Epoch 46/100\n",
            "620/620 [==============================] - 1s 2ms/step - loss: 0.3550 - accuracy: 0.8581\n",
            "Epoch 47/100\n",
            "620/620 [==============================] - 1s 2ms/step - loss: 0.3549 - accuracy: 0.8578\n",
            "Epoch 48/100\n",
            "620/620 [==============================] - 1s 2ms/step - loss: 0.3548 - accuracy: 0.8572\n",
            "Epoch 49/100\n",
            "620/620 [==============================] - 1s 2ms/step - loss: 0.3548 - accuracy: 0.8580\n",
            "Epoch 50/100\n",
            "620/620 [==============================] - 1s 2ms/step - loss: 0.3547 - accuracy: 0.8580\n",
            "Epoch 51/100\n",
            "620/620 [==============================] - 1s 2ms/step - loss: 0.3546 - accuracy: 0.8572\n",
            "Epoch 52/100\n",
            "620/620 [==============================] - 1s 2ms/step - loss: 0.3545 - accuracy: 0.8583\n",
            "Epoch 53/100\n",
            "620/620 [==============================] - 1s 2ms/step - loss: 0.3544 - accuracy: 0.8574\n",
            "Epoch 54/100\n",
            "620/620 [==============================] - 1s 2ms/step - loss: 0.3545 - accuracy: 0.8581\n",
            "Epoch 55/100\n",
            "620/620 [==============================] - 1s 2ms/step - loss: 0.3544 - accuracy: 0.8579\n",
            "Epoch 56/100\n",
            "620/620 [==============================] - 1s 2ms/step - loss: 0.3543 - accuracy: 0.8581\n",
            "Epoch 57/100\n",
            "620/620 [==============================] - 1s 2ms/step - loss: 0.3545 - accuracy: 0.8577\n",
            "Epoch 58/100\n",
            "620/620 [==============================] - 1s 2ms/step - loss: 0.3543 - accuracy: 0.8575\n",
            "Epoch 59/100\n",
            "620/620 [==============================] - 1s 2ms/step - loss: 0.3542 - accuracy: 0.8579\n",
            "Epoch 60/100\n",
            "620/620 [==============================] - 1s 2ms/step - loss: 0.3541 - accuracy: 0.8579\n",
            "Epoch 61/100\n",
            "620/620 [==============================] - 1s 2ms/step - loss: 0.3541 - accuracy: 0.8568\n",
            "Epoch 62/100\n",
            "620/620 [==============================] - 1s 2ms/step - loss: 0.3541 - accuracy: 0.8564\n",
            "Epoch 63/100\n",
            "620/620 [==============================] - 1s 2ms/step - loss: 0.3541 - accuracy: 0.8580\n",
            "Epoch 64/100\n",
            "620/620 [==============================] - 1s 2ms/step - loss: 0.3542 - accuracy: 0.8568\n",
            "Epoch 65/100\n",
            "620/620 [==============================] - 1s 2ms/step - loss: 0.3539 - accuracy: 0.8575\n",
            "Epoch 66/100\n",
            "620/620 [==============================] - 1s 2ms/step - loss: 0.3538 - accuracy: 0.8576\n",
            "Epoch 67/100\n",
            "620/620 [==============================] - 1s 2ms/step - loss: 0.3538 - accuracy: 0.8572\n",
            "Epoch 68/100\n",
            "620/620 [==============================] - 1s 2ms/step - loss: 0.3536 - accuracy: 0.8578\n",
            "Epoch 69/100\n",
            "620/620 [==============================] - 1s 2ms/step - loss: 0.3538 - accuracy: 0.8582\n",
            "Epoch 70/100\n",
            "620/620 [==============================] - 1s 2ms/step - loss: 0.3539 - accuracy: 0.8576\n",
            "Epoch 71/100\n",
            "620/620 [==============================] - 1s 2ms/step - loss: 0.3537 - accuracy: 0.8571\n",
            "Epoch 72/100\n",
            "620/620 [==============================] - 1s 2ms/step - loss: 0.3538 - accuracy: 0.8575\n",
            "Epoch 73/100\n",
            "620/620 [==============================] - 1s 2ms/step - loss: 0.3535 - accuracy: 0.8578\n",
            "Epoch 74/100\n",
            "620/620 [==============================] - 1s 2ms/step - loss: 0.3533 - accuracy: 0.8579\n",
            "Epoch 75/100\n",
            "620/620 [==============================] - 1s 2ms/step - loss: 0.3535 - accuracy: 0.8573\n",
            "Epoch 76/100\n",
            "620/620 [==============================] - 1s 2ms/step - loss: 0.3535 - accuracy: 0.8583\n",
            "Epoch 77/100\n",
            "620/620 [==============================] - 1s 2ms/step - loss: 0.3535 - accuracy: 0.8568\n",
            "Epoch 78/100\n",
            "620/620 [==============================] - 1s 2ms/step - loss: 0.3534 - accuracy: 0.8578\n",
            "Epoch 79/100\n",
            "620/620 [==============================] - 1s 2ms/step - loss: 0.3533 - accuracy: 0.8579\n",
            "Epoch 80/100\n",
            "620/620 [==============================] - 1s 2ms/step - loss: 0.3533 - accuracy: 0.8572\n",
            "Epoch 81/100\n",
            "620/620 [==============================] - 1s 2ms/step - loss: 0.3535 - accuracy: 0.8577\n",
            "Epoch 82/100\n",
            "620/620 [==============================] - 1s 2ms/step - loss: 0.3533 - accuracy: 0.8571\n",
            "Epoch 83/100\n",
            "620/620 [==============================] - 1s 2ms/step - loss: 0.3531 - accuracy: 0.8581\n",
            "Epoch 84/100\n",
            "620/620 [==============================] - 1s 2ms/step - loss: 0.3535 - accuracy: 0.8588\n",
            "Epoch 85/100\n",
            "620/620 [==============================] - 1s 2ms/step - loss: 0.3531 - accuracy: 0.8580\n",
            "Epoch 86/100\n",
            "620/620 [==============================] - 1s 2ms/step - loss: 0.3530 - accuracy: 0.8579\n",
            "Epoch 87/100\n",
            "620/620 [==============================] - 1s 2ms/step - loss: 0.3532 - accuracy: 0.8582\n",
            "Epoch 88/100\n",
            "620/620 [==============================] - 1s 2ms/step - loss: 0.3527 - accuracy: 0.8580\n",
            "Epoch 89/100\n",
            "620/620 [==============================] - 1s 2ms/step - loss: 0.3529 - accuracy: 0.8579\n",
            "Epoch 90/100\n",
            "620/620 [==============================] - 1s 2ms/step - loss: 0.3529 - accuracy: 0.8586\n",
            "Epoch 91/100\n",
            "620/620 [==============================] - 1s 2ms/step - loss: 0.3528 - accuracy: 0.8585\n",
            "Epoch 92/100\n",
            "620/620 [==============================] - 1s 2ms/step - loss: 0.3526 - accuracy: 0.8579\n",
            "Epoch 93/100\n",
            "620/620 [==============================] - 1s 2ms/step - loss: 0.3527 - accuracy: 0.8584\n",
            "Epoch 94/100\n",
            "620/620 [==============================] - 1s 2ms/step - loss: 0.3527 - accuracy: 0.8578\n",
            "Epoch 95/100\n",
            "620/620 [==============================] - 1s 2ms/step - loss: 0.3527 - accuracy: 0.8581\n",
            "Epoch 96/100\n",
            "620/620 [==============================] - 1s 2ms/step - loss: 0.3527 - accuracy: 0.8588\n",
            "Epoch 97/100\n",
            "620/620 [==============================] - 1s 2ms/step - loss: 0.3527 - accuracy: 0.8577\n",
            "Epoch 98/100\n",
            "620/620 [==============================] - 1s 2ms/step - loss: 0.3528 - accuracy: 0.8578\n",
            "Epoch 99/100\n",
            "620/620 [==============================] - 1s 2ms/step - loss: 0.3524 - accuracy: 0.8586\n",
            "Epoch 100/100\n",
            "620/620 [==============================] - 1s 2ms/step - loss: 0.3527 - accuracy: 0.8588\n"
          ]
        },
        {
          "output_type": "execute_result",
          "data": {
            "text/plain": [
              "<keras.callbacks.History at 0x7fe9dd3d85d0>"
            ]
          },
          "metadata": {},
          "execution_count": 26
        }
      ]
    },
    {
      "cell_type": "markdown",
      "source": [
        "#Predicting test-set results"
      ],
      "metadata": {
        "id": "6YIDR5og5z8U"
      }
    },
    {
      "cell_type": "code",
      "source": [
        "y_pred = ann.predict(X_test)\n",
        "y_pred = (y_pred > 0.5)\n",
        "print(np.concatenate((y_pred.reshape(len(y_pred), 1), y_test.reshape(len(y_test), 1)), 1))"
      ],
      "metadata": {
        "id": "bdtlc7KH52Lj",
        "colab": {
          "base_uri": "https://localhost:8080/"
        },
        "outputId": "f1fb4f1f-5e97-4d5a-8982-af5c88643e39"
      },
      "execution_count": 27,
      "outputs": [
        {
          "output_type": "stream",
          "name": "stdout",
          "text": [
            "[[1 1]\n",
            " [0 0]\n",
            " [0 0]\n",
            " ...\n",
            " [0 0]\n",
            " [0 0]\n",
            " [0 0]]\n"
          ]
        }
      ]
    },
    {
      "cell_type": "markdown",
      "source": [
        "#Making the confusion matrix"
      ],
      "metadata": {
        "id": "barktXuZ549C"
      }
    },
    {
      "cell_type": "code",
      "source": [
        "from sklearn.metrics import confusion_matrix, accuracy_score\n",
        "cm = confusion_matrix(y_test, y_pred)\n",
        "print(cm)\n",
        "accuracy_score(y_test, y_pred)"
      ],
      "metadata": {
        "id": "A6u36XQF596r",
        "colab": {
          "base_uri": "https://localhost:8080/"
        },
        "outputId": "ee9ebb52-d7d9-4841-f43a-403ff8b1ad2b"
      },
      "execution_count": 28,
      "outputs": [
        {
          "output_type": "stream",
          "name": "stdout",
          "text": [
            "[[6943  145]\n",
            " [1076  333]]\n"
          ]
        },
        {
          "output_type": "execute_result",
          "data": {
            "text/plain": [
              "0.8563022243144639"
            ]
          },
          "metadata": {},
          "execution_count": 28
        }
      ]
    },
    {
      "cell_type": "markdown",
      "source": [
        "#Testing the model with the test dataset"
      ],
      "metadata": {
        "id": "8G3ZLLSRWTMk"
      }
    },
    {
      "cell_type": "code",
      "source": [
        "test_dataset = pd.read_csv('datathon_test.csv')\n",
        "submission_dataset = pd.read_csv('submission.csv')"
      ],
      "metadata": {
        "id": "JPccbxvsWWeq"
      },
      "execution_count": 39,
      "outputs": []
    },
    {
      "cell_type": "markdown",
      "source": [
        "#Loading test dataset"
      ],
      "metadata": {
        "id": "2XoffievZST7"
      }
    },
    {
      "cell_type": "code",
      "source": [
        "test_dataset.drop(test_dataset.columns[[0,5,6,7,9,10,11,12,13,14,16,17,18,19]], axis = 1, inplace = True)\n",
        "X = test_dataset.iloc[:, :].values\n",
        "#y = test_dataset.iloc[:, -1].values\n",
        "X"
      ],
      "metadata": {
        "colab": {
          "base_uri": "https://localhost:8080/"
        },
        "id": "1u83jMxdXadi",
        "outputId": "ec7b5910-5181-413e-8227-022283353c8b"
      },
      "execution_count": 40,
      "outputs": [
        {
          "output_type": "execute_result",
          "data": {
            "text/plain": [
              "array([['M', 'Y', 'Y', ..., 0, 0.439270435, 2],\n",
              "       ['M', 'Y', 'Y', ..., 0, 0.084334211, 4],\n",
              "       ['M', 'Y', 'N', ..., 0, 0.984209575, 0],\n",
              "       ...,\n",
              "       ['M', 'N', 'Y', ..., 0, 0.571894753, 3],\n",
              "       ['M', 'N', 'Y', ..., 0, 0.655693348, 6],\n",
              "       ['M', 'Y', 'Y', ..., 0, 0.785251224, 2]], dtype=object)"
            ]
          },
          "metadata": {},
          "execution_count": 40
        }
      ]
    },
    {
      "cell_type": "markdown",
      "source": [
        "#Encoding the categorical values"
      ],
      "metadata": {
        "id": "A9LWoUFLZWN7"
      }
    },
    {
      "cell_type": "code",
      "source": [
        "from sklearn.preprocessing import LabelEncoder\n",
        "from sklearn.compose import ColumnTransformer\n",
        "from sklearn.preprocessing import OneHotEncoder\n",
        "le = LabelEncoder()\n",
        "#gender\n",
        "X[:, 0] = le.fit_transform(X[:, 2])\n",
        "#s11\n",
        "X[:, 1] = le.fit_transform(X[:, 2])\n",
        "#s12\n",
        "X[:, 2] = le.fit_transform(X[:, 2])\n",
        "#s58\n",
        "X[:, 5] = le.fit_transform(X[:, 2])"
      ],
      "metadata": {
        "id": "PWTrzWzUZBe9"
      },
      "execution_count": 41,
      "outputs": []
    },
    {
      "cell_type": "markdown",
      "source": [
        "#Feature scaling"
      ],
      "metadata": {
        "id": "ZN8kdfqEZfc7"
      }
    },
    {
      "cell_type": "code",
      "source": [
        "from sklearn.preprocessing import StandardScaler\n",
        "sc = StandardScaler()\n",
        "X = sc.fit_transform(X)"
      ],
      "metadata": {
        "id": "i8_diUUTZrAz"
      },
      "execution_count": 43,
      "outputs": []
    },
    {
      "cell_type": "markdown",
      "source": [
        "#Predicting results"
      ],
      "metadata": {
        "id": "P7Y7ZoS5Z9a6"
      }
    },
    {
      "cell_type": "code",
      "source": [
        "y_pred = ann.predict(X)\n",
        "#print(np.concatenate((y_pred.reshape(len(y_pred), 1), y_test.reshape(len(y_test), 1)), 1))\n",
        "y_pred"
      ],
      "metadata": {
        "colab": {
          "base_uri": "https://localhost:8080/"
        },
        "id": "IoVMLmvUaD8S",
        "outputId": "9bf23d5b-7a3f-428c-c7d5-927ed22ccab1"
      },
      "execution_count": 56,
      "outputs": [
        {
          "output_type": "execute_result",
          "data": {
            "text/plain": [
              "array([[0.3963246 ],\n",
              "       [0.09917587],\n",
              "       [0.22330227],\n",
              "       ...,\n",
              "       [0.39045545],\n",
              "       [0.4800283 ],\n",
              "       [0.15766174]], dtype=float32)"
            ]
          },
          "metadata": {},
          "execution_count": 56
        }
      ]
    },
    {
      "cell_type": "markdown",
      "source": [
        "#Results"
      ],
      "metadata": {
        "id": "s8eIJe83aW1S"
      }
    },
    {
      "cell_type": "code",
      "source": [
        "for cell in np.nditer(y_pred, op_flags=['readwrite']):\n",
        "    if cell[...] > 0.5:\n",
        "      cell[...] = 1\n",
        "    else:\n",
        "      cell[...] = 0\n",
        "y_pred"
      ],
      "metadata": {
        "colab": {
          "base_uri": "https://localhost:8080/"
        },
        "id": "M7CM25MRacwb",
        "outputId": "c4ac3381-66fc-4049-fd1d-ba26cff84803"
      },
      "execution_count": 57,
      "outputs": [
        {
          "output_type": "execute_result",
          "data": {
            "text/plain": [
              "array([[0.],\n",
              "       [0.],\n",
              "       [0.],\n",
              "       ...,\n",
              "       [0.],\n",
              "       [0.],\n",
              "       [0.]], dtype=float32)"
            ]
          },
          "metadata": {},
          "execution_count": 57
        }
      ]
    },
    {
      "cell_type": "code",
      "source": [
        "len(y_pred)"
      ],
      "metadata": {
        "colab": {
          "base_uri": "https://localhost:8080/"
        },
        "id": "zx6XJnNPelTl",
        "outputId": "66aabe50-8457-440b-f55b-001aa999746e"
      },
      "execution_count": 62,
      "outputs": [
        {
          "output_type": "execute_result",
          "data": {
            "text/plain": [
              "85065"
            ]
          },
          "metadata": {},
          "execution_count": 62
        }
      ]
    },
    {
      "cell_type": "code",
      "source": [
        "len(test_dataset['n1'])"
      ],
      "metadata": {
        "colab": {
          "base_uri": "https://localhost:8080/"
        },
        "id": "BMGdsQXMe35j",
        "outputId": "1f14fe12-b7db-4c55-ea69-3b869d36ea4e"
      },
      "execution_count": 70,
      "outputs": [
        {
          "output_type": "execute_result",
          "data": {
            "text/plain": [
              "85065"
            ]
          },
          "metadata": {},
          "execution_count": 70
        }
      ]
    },
    {
      "cell_type": "code",
      "source": [
        "test2_dataset = pd.read_csv('datathon_test.csv')\n",
        "test2_dataset['label'] = y_pred\n",
        "submission = test2_dataset[[\"id\", \"label\"]]\n",
        "\n",
        "submission.to_csv(\"predictions.csv\", index = False)\n",
        "#pd.to_csv(\"submission_1.csv\", index=False)"
      ],
      "metadata": {
        "id": "5R64gUHMadlG"
      },
      "execution_count": 72,
      "outputs": []
    }
  ]
}